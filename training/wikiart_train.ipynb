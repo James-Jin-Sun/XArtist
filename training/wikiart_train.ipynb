{
 "cells": [
  {
   "metadata": {},
   "cell_type": "markdown",
   "source": "# Prepare",
   "id": "af961599becb3538"
  },
  {
   "cell_type": "code",
   "id": "initial_id",
   "metadata": {
    "collapsed": true,
    "ExecuteTime": {
     "end_time": "2024-07-09T02:21:55.938878Z",
     "start_time": "2024-07-09T02:21:54.540740Z"
    }
   },
   "source": [
    "import torch\n",
    "from src.configs import *\n",
    "from src.gan_models import *\n",
    "import time\n",
    "import matplotlib.pyplot as plt"
   ],
   "outputs": [],
   "execution_count": 1
  },
  {
   "metadata": {
    "ExecuteTime": {
     "end_time": "2024-07-09T02:22:31.821255Z",
     "start_time": "2024-07-09T02:22:31.793161Z"
    }
   },
   "cell_type": "code",
   "source": [
    "device = 'cpu'\n",
    "# Check if MPS is supported and available\n",
    "if torch.backends.mps.is_available():\n",
    "    print(\"MPS is available on this device.\")\n",
    "    device = torch.device(\"mps\")  # Use MPS device\n",
    "elif torch.cuda.is_available():\n",
    "    print(\"CUDA is available on this device.\")\n",
    "    device = torch.device(\"cuda\")  # Use MPS device\n",
    "else:\n",
    "    print(\"MPS not available, using CPU instead.\")\n",
    "    device = torch.device(\"cpu\")  # Fallback to CPU\n",
    "\n",
    "# device = torch.device('cpu')"
   ],
   "id": "94da532872a23d2c",
   "outputs": [
    {
     "name": "stdout",
     "output_type": "stream",
     "text": [
      "MPS is available on this device.\n"
     ]
    }
   ],
   "execution_count": 2
  },
  {
   "metadata": {
    "ExecuteTime": {
     "end_time": "2024-07-09T02:22:34.222062Z",
     "start_time": "2024-07-09T02:22:33.257917Z"
    }
   },
   "cell_type": "code",
   "source": [
    "\n",
    "import time\n",
    "from PIL import Image\n",
    "import src.gan_trainer as gan_trainer"
   ],
   "id": "ae6a456c023cfbe3",
   "outputs": [],
   "execution_count": 3
  },
  {
   "metadata": {},
   "cell_type": "markdown",
   "source": "# Start Training",
   "id": "7b0698ee47d6fd24"
  },
  {
   "metadata": {
    "ExecuteTime": {
     "end_time": "2024-07-09T02:32:32.504107Z",
     "start_time": "2024-07-09T02:22:35.565612Z"
    }
   },
   "cell_type": "code",
   "source": [
    "Image.MAX_IMAGE_PIXELS = None  # Completely removes the limit\n",
    "# or set to a higher limit, for example:\n",
    "Image.MAX_IMAGE_PIXELS = 100_000_000  # set to a more suitable limit\n",
    "start_ts = time.time()\n",
    "print(f'Training started ....')\n",
    "gan_trainer.run()\n",
    "print(f'Training finished ... ({(time.time() - start_ts)/1000} s)')"
   ],
   "id": "90cdda6021c23315",
   "outputs": [
    {
     "name": "stdout",
     "output_type": "stream",
     "text": [
      "Training started ....\n",
      "MPS is available on this device.\n",
      "Category labels': \n",
      "0     abstract_painting\n",
      "1             cityscape\n",
      "2        genre_painting\n",
      "3          illustration\n",
      "4             landscape\n",
      "5         nude_painting\n",
      "6              portrait\n",
      "7    religious_painting\n",
      "8      sketch_and_study\n",
      "9            still_life\n",
      "Name: 1, dtype: object\n",
      "Load images from : ./wikiart/genre_train.csv\n",
      "WikiArt Label filters: ['still_life']\n",
      "Dataset size: 1952\n",
      "G-Model: \n",
      "DCGANGeneratorNet64(\n",
      "  (cons_layers): Sequential(\n",
      "    (0): Unflatten(dim=1, unflattened_size=(128, 1, 1))\n",
      "    (1): ConvTranspose2d(128, 512, kernel_size=(4, 4), stride=(1, 1), bias=False)\n",
      "    (2): BatchNorm2d(512, eps=1e-05, momentum=0.1, affine=True, track_running_stats=True)\n",
      "    (3): ReLU(inplace=True)\n",
      "    (4): ConvTranspose2d(512, 256, kernel_size=(4, 4), stride=(2, 2), padding=(1, 1), bias=False)\n",
      "    (5): BatchNorm2d(256, eps=1e-05, momentum=0.1, affine=True, track_running_stats=True)\n",
      "    (6): ReLU(inplace=True)\n",
      "    (7): ConvTranspose2d(256, 128, kernel_size=(4, 4), stride=(2, 2), padding=(1, 1), bias=False)\n",
      "    (8): BatchNorm2d(128, eps=1e-05, momentum=0.1, affine=True, track_running_stats=True)\n",
      "    (9): ReLU(inplace=True)\n",
      "    (10): ConvTranspose2d(128, 64, kernel_size=(4, 4), stride=(2, 2), padding=(1, 1), bias=False)\n",
      "    (11): BatchNorm2d(64, eps=1e-05, momentum=0.1, affine=True, track_running_stats=True)\n",
      "    (12): ReLU(inplace=True)\n",
      "    (13): ConvTranspose2d(64, 3, kernel_size=(4, 4), stride=(2, 2), padding=(1, 1), bias=False)\n",
      "    (14): Tanh()\n",
      "  )\n",
      ")\n",
      "D-Model: \n",
      "SNDCGANDiscriminatorNet64(\n",
      "  (cons_layers): Sequential(\n",
      "    (0): Conv2d(3, 64, kernel_size=(4, 4), stride=(2, 2), padding=(1, 1), bias=False)\n",
      "    (1): LeakyReLU(negative_slope=0.2, inplace=True)\n",
      "    (2): Conv2d(64, 128, kernel_size=(4, 4), stride=(2, 2), padding=(1, 1), bias=False)\n",
      "    (3): LeakyReLU(negative_slope=0.2, inplace=True)\n",
      "    (4): Conv2d(128, 256, kernel_size=(4, 4), stride=(2, 2), padding=(1, 1), bias=False)\n",
      "    (5): LeakyReLU(negative_slope=0.2, inplace=True)\n",
      "    (6): Conv2d(256, 512, kernel_size=(8, 8), stride=(2, 2), padding=(1, 1), bias=False)\n",
      "    (7): LeakyReLU(negative_slope=0.2, inplace=True)\n",
      "    (8): Conv2d(512, 1, kernel_size=(1, 1), stride=(1, 1), bias=False)\n",
      "    (9): Flatten(start_dim=1, end_dim=-1)\n",
      "  )\n",
      ")\n"
     ]
    },
    {
     "name": "stderr",
     "output_type": "stream",
     "text": [
      "\u001B[34m\u001B[1mwandb\u001B[0m: Currently logged in as: \u001B[33mgangchu-cg\u001B[0m (\u001B[33mliight\u001B[0m). Use \u001B[1m`wandb login --relogin`\u001B[0m to force relogin\n"
     ]
    },
    {
     "data": {
      "text/plain": [
       "<IPython.core.display.HTML object>"
      ],
      "text/html": [
       "wandb version 0.17.4 is available!  To upgrade, please run:\n",
       " $ pip install wandb --upgrade"
      ]
     },
     "metadata": {},
     "output_type": "display_data"
    },
    {
     "data": {
      "text/plain": [
       "<IPython.core.display.HTML object>"
      ],
      "text/html": [
       "Tracking run with wandb version 0.16.6"
      ]
     },
     "metadata": {},
     "output_type": "display_data"
    },
    {
     "data": {
      "text/plain": [
       "<IPython.core.display.HTML object>"
      ],
      "text/html": [
       "Run data is saved locally in <code>/Users/typeorigin/PythonProjects/XArtist/training/wandb/run-20240708_222237-gxgvqdyj</code>"
      ]
     },
     "metadata": {},
     "output_type": "display_data"
    },
    {
     "data": {
      "text/plain": [
       "<IPython.core.display.HTML object>"
      ],
      "text/html": [
       "Syncing run <strong><a href='https://wandb.ai/liight/XArtist/runs/gxgvqdyj' target=\"_blank\">SNDCGAN64-genre-202407082222</a></strong> to <a href='https://wandb.ai/liight/XArtist' target=\"_blank\">Weights & Biases</a> (<a href='https://wandb.me/run' target=\"_blank\">docs</a>)<br/>"
      ]
     },
     "metadata": {},
     "output_type": "display_data"
    },
    {
     "data": {
      "text/plain": [
       "<IPython.core.display.HTML object>"
      ],
      "text/html": [
       " View project at <a href='https://wandb.ai/liight/XArtist' target=\"_blank\">https://wandb.ai/liight/XArtist</a>"
      ]
     },
     "metadata": {},
     "output_type": "display_data"
    },
    {
     "data": {
      "text/plain": [
       "<IPython.core.display.HTML object>"
      ],
      "text/html": [
       " View run at <a href='https://wandb.ai/liight/XArtist/runs/gxgvqdyj' target=\"_blank\">https://wandb.ai/liight/XArtist/runs/gxgvqdyj</a>"
      ]
     },
     "metadata": {},
     "output_type": "display_data"
    },
    {
     "name": "stdout",
     "output_type": "stream",
     "text": [
      "mps\n",
      "Epoch[0], Batch[4] Loss G: 1.8382, Loss D: 0.0000, D(x): 3.3822, D(G(z1)): -1.8283, D(G(z2)): -1.8382\n",
      "Epoch[0], Batch[9] Loss G: 2.3335, Loss D: 0.0000, D(x): 4.5753, D(G(z1)): -2.3234, D(G(z2)): -2.3335\n",
      "Epoch[0], Batch[14] Loss G: 1.9812, Loss D: 0.0066, D(x): 5.2084, D(G(z1)): -2.0557, D(G(z2)): -1.9812\n",
      "Epoch[0], Batch[19] Loss G: 1.0979, Loss D: 0.0000, D(x): 7.6051, D(G(z1)): -1.1335, D(G(z2)): -1.0979\n",
      "Epoch[0], Batch[24] Loss G: 1.3992, Loss D: 0.0222, D(x): 3.3640, D(G(z1)): -1.4752, D(G(z2)): -1.3992\n",
      "Epoch[0], Batch[29] Loss G: 1.4181, Loss D: 0.1721, D(x): 4.5734, D(G(z1)): -1.5244, D(G(z2)): -1.4181\n",
      "Image is dumped to: ./generated_plot_e001\n",
      "Generator is dumped to: ./generator_model_001.pt, \n",
      "Discriminator is dumped to :./discriminator_model_001.pt\n",
      "Epoch[1], Batch[3] Loss G: 1.4960, Loss D: 0.0002, D(x): 6.2738, D(G(z1)): -1.3389, D(G(z2)): -1.4960\n",
      "Epoch[1], Batch[8] Loss G: 1.1170, Loss D: 0.3682, D(x): 7.3062, D(G(z1)): -0.6334, D(G(z2)): -1.1170\n",
      "Epoch[1], Batch[13] Loss G: 1.3755, Loss D: 0.0298, D(x): 7.2283, D(G(z1)): -0.9833, D(G(z2)): -1.3755\n",
      "Epoch[1], Batch[18] Loss G: 1.3481, Loss D: 0.1608, D(x): 9.0245, D(G(z1)): -1.4606, D(G(z2)): -1.3481\n",
      "Epoch[1], Batch[23] Loss G: 1.1459, Loss D: 0.0266, D(x): 6.4837, D(G(z1)): -1.1523, D(G(z2)): -1.1459\n",
      "Epoch[1], Batch[28] Loss G: 1.1751, Loss D: 0.0294, D(x): 7.6334, D(G(z1)): -1.0673, D(G(z2)): -1.1751\n",
      "Image is dumped to: ./generated_plot_e002\n",
      "Generator is dumped to: ./generator_model_002.pt, \n",
      "Discriminator is dumped to :./discriminator_model_002.pt\n",
      "Epoch[2], Batch[2] Loss G: 1.2334, Loss D: 0.1364, D(x): 5.0726, D(G(z1)): -1.3692, D(G(z2)): -1.2334\n",
      "Epoch[2], Batch[7] Loss G: 1.2776, Loss D: 0.1583, D(x): 10.4333, D(G(z1)): -0.8443, D(G(z2)): -1.2776\n",
      "Epoch[2], Batch[12] Loss G: 1.2403, Loss D: 0.1895, D(x): 10.5216, D(G(z1)): -1.3055, D(G(z2)): -1.2403\n",
      "Epoch[2], Batch[17] Loss G: 0.7277, Loss D: 0.0881, D(x): 16.9753, D(G(z1)): -1.1200, D(G(z2)): -0.7277\n",
      "Epoch[2], Batch[22] Loss G: 1.1909, Loss D: 0.1555, D(x): 21.6277, D(G(z1)): -1.3771, D(G(z2)): -1.1909\n",
      "Epoch[2], Batch[27] Loss G: 0.9679, Loss D: 0.0314, D(x): 11.8304, D(G(z1)): -1.0791, D(G(z2)): -0.9679\n",
      "Image is dumped to: ./generated_plot_e003\n",
      "Generator is dumped to: ./generator_model_003.pt, \n",
      "Discriminator is dumped to :./discriminator_model_003.pt\n",
      "Epoch[3], Batch[1] Loss G: -0.1126, Loss D: 1.1517, D(x): 3.8331, D(G(z1)): 0.1064, D(G(z2)): 0.1126\n",
      "Epoch[3], Batch[6] Loss G: 0.1090, Loss D: 0.9879, D(x): 4.4773, D(G(z1)): -0.0195, D(G(z2)): -0.1090\n",
      "Epoch[3], Batch[11] Loss G: 1.0037, Loss D: 0.0045, D(x): 8.6968, D(G(z1)): -1.0919, D(G(z2)): -1.0037\n",
      "Epoch[3], Batch[16] Loss G: 1.3526, Loss D: 0.1170, D(x): 13.5786, D(G(z1)): -0.8855, D(G(z2)): -1.3526\n",
      "Epoch[3], Batch[21] Loss G: 1.2730, Loss D: 0.0126, D(x): 11.2230, D(G(z1)): -1.1991, D(G(z2)): -1.2730\n",
      "Epoch[3], Batch[26] Loss G: 0.8997, Loss D: 0.3239, D(x): 8.6213, D(G(z1)): -0.7504, D(G(z2)): -0.8997\n",
      "Image is dumped to: ./generated_plot_e004\n",
      "Generator is dumped to: ./generator_model_004.pt, \n",
      "Discriminator is dumped to :./discriminator_model_004.pt\n",
      "Epoch[4], Batch[0] Loss G: 1.9378, Loss D: 0.1187, D(x): 8.3861, D(G(z1)): -1.7568, D(G(z2)): -1.9378\n",
      "Epoch[4], Batch[5] Loss G: 1.3022, Loss D: 0.0943, D(x): 9.1679, D(G(z1)): -0.9111, D(G(z2)): -1.3022\n",
      "Epoch[4], Batch[10] Loss G: 0.8045, Loss D: 0.6463, D(x): 6.6526, D(G(z1)): -0.5011, D(G(z2)): -0.8045\n",
      "Epoch[4], Batch[15] Loss G: 1.0557, Loss D: 0.0553, D(x): 15.0163, D(G(z1)): -1.0640, D(G(z2)): -1.0557\n",
      "Epoch[4], Batch[20] Loss G: 0.9509, Loss D: 0.2737, D(x): 10.6735, D(G(z1)): -0.7374, D(G(z2)): -0.9509\n",
      "Epoch[4], Batch[25] Loss G: 0.7467, Loss D: 0.1784, D(x): 12.6604, D(G(z1)): -1.0728, D(G(z2)): -0.7467\n",
      "Epoch[4], Batch[30] Loss G: 0.9718, Loss D: 0.1644, D(x): 20.4197, D(G(z1)): -0.8747, D(G(z2)): -0.9718\n",
      "Image is dumped to: ./generated_plot_e005\n",
      "Generator is dumped to: ./generator_model_005.pt, \n",
      "Discriminator is dumped to :./discriminator_model_005.pt\n",
      "Epoch[5], Batch[4] Loss G: 1.0265, Loss D: 0.2580, D(x): 17.6101, D(G(z1)): -0.9797, D(G(z2)): -1.0265\n",
      "Epoch[5], Batch[9] Loss G: 1.0305, Loss D: 0.1001, D(x): 15.9467, D(G(z1)): -1.0836, D(G(z2)): -1.0305\n",
      "Epoch[5], Batch[14] Loss G: 1.8191, Loss D: 0.0902, D(x): 9.0046, D(G(z1)): -0.9099, D(G(z2)): -1.8191\n",
      "Epoch[5], Batch[19] Loss G: 1.2521, Loss D: 0.2668, D(x): 11.3736, D(G(z1)): -1.4578, D(G(z2)): -1.2521\n",
      "Epoch[5], Batch[24] Loss G: 0.9666, Loss D: 0.0065, D(x): 9.5267, D(G(z1)): -1.2010, D(G(z2)): -0.9666\n",
      "Epoch[5], Batch[29] Loss G: 1.2312, Loss D: 0.0507, D(x): 17.5968, D(G(z1)): -1.3773, D(G(z2)): -1.2312\n",
      "Image is dumped to: ./generated_plot_e006\n",
      "Generator is dumped to: ./generator_model_006.pt, \n",
      "Discriminator is dumped to :./discriminator_model_006.pt\n",
      "Epoch[6], Batch[3] Loss G: 1.2196, Loss D: 0.1579, D(x): 14.0942, D(G(z1)): -0.9195, D(G(z2)): -1.2196\n",
      "Epoch[6], Batch[8] Loss G: 0.9967, Loss D: 0.0064, D(x): 13.1497, D(G(z1)): -1.0231, D(G(z2)): -0.9967\n",
      "Epoch[6], Batch[13] Loss G: 1.3169, Loss D: 0.1107, D(x): 5.2179, D(G(z1)): -0.9178, D(G(z2)): -1.3169\n",
      "Epoch[6], Batch[18] Loss G: 0.9870, Loss D: 0.4006, D(x): 5.5159, D(G(z1)): -0.7998, D(G(z2)): -0.9870\n",
      "Epoch[6], Batch[23] Loss G: 0.8525, Loss D: 0.0649, D(x): 9.4049, D(G(z1)): -1.2355, D(G(z2)): -0.8525\n",
      "Epoch[6], Batch[28] Loss G: 0.7903, Loss D: 0.3709, D(x): 13.3716, D(G(z1)): -1.1156, D(G(z2)): -0.7903\n",
      "Image is dumped to: ./generated_plot_e007\n",
      "Generator is dumped to: ./generator_model_007.pt, \n",
      "Discriminator is dumped to :./discriminator_model_007.pt\n",
      "Epoch[7], Batch[2] Loss G: 1.2397, Loss D: 0.0446, D(x): 13.0399, D(G(z1)): -0.9791, D(G(z2)): -1.2397\n",
      "Epoch[7], Batch[7] Loss G: 0.9918, Loss D: 0.0338, D(x): 12.6988, D(G(z1)): -1.0250, D(G(z2)): -0.9918\n",
      "Epoch[7], Batch[12] Loss G: 1.3466, Loss D: 0.1233, D(x): 12.5505, D(G(z1)): -0.9202, D(G(z2)): -1.3466\n",
      "Epoch[7], Batch[17] Loss G: 0.9059, Loss D: 0.1791, D(x): 8.7984, D(G(z1)): -1.0669, D(G(z2)): -0.9059\n",
      "Epoch[7], Batch[22] Loss G: 0.7089, Loss D: 0.6256, D(x): 7.8565, D(G(z1)): -0.5322, D(G(z2)): -0.7089\n",
      "Epoch[7], Batch[27] Loss G: 1.2394, Loss D: 0.1118, D(x): 7.9594, D(G(z1)): -1.2663, D(G(z2)): -1.2394\n",
      "Image is dumped to: ./generated_plot_e008\n",
      "Generator is dumped to: ./generator_model_008.pt, \n",
      "Discriminator is dumped to :./discriminator_model_008.pt\n",
      "Epoch[8], Batch[1] Loss G: 0.4063, Loss D: 0.8694, D(x): 10.8183, D(G(z1)): -0.2793, D(G(z2)): -0.4063\n",
      "Epoch[8], Batch[6] Loss G: 0.4787, Loss D: 0.7295, D(x): 14.8584, D(G(z1)): -0.4509, D(G(z2)): -0.4787\n",
      "Epoch[8], Batch[11] Loss G: 1.0070, Loss D: 0.3836, D(x): 16.7028, D(G(z1)): -0.8544, D(G(z2)): -1.0070\n",
      "Epoch[8], Batch[16] Loss G: 1.3431, Loss D: 0.0059, D(x): 6.1958, D(G(z1)): -1.2976, D(G(z2)): -1.3431\n",
      "Epoch[8], Batch[21] Loss G: 0.3875, Loss D: 0.7093, D(x): 6.6607, D(G(z1)): -0.3320, D(G(z2)): -0.3875\n",
      "Epoch[8], Batch[26] Loss G: 0.4365, Loss D: 0.2689, D(x): 13.5037, D(G(z1)): -1.0530, D(G(z2)): -0.4365\n",
      "Image is dumped to: ./generated_plot_e009\n",
      "Generator is dumped to: ./generator_model_009.pt, \n",
      "Discriminator is dumped to :./discriminator_model_009.pt\n",
      "Epoch[9], Batch[0] Loss G: 0.8120, Loss D: 0.0823, D(x): 15.1278, D(G(z1)): -1.0213, D(G(z2)): -0.8120\n",
      "Epoch[9], Batch[5] Loss G: 0.7737, Loss D: 0.2695, D(x): 18.7695, D(G(z1)): -1.0563, D(G(z2)): -0.7737\n",
      "Epoch[9], Batch[10] Loss G: 0.9352, Loss D: 0.1195, D(x): 18.4715, D(G(z1)): -1.0321, D(G(z2)): -0.9352\n",
      "Epoch[9], Batch[15] Loss G: 1.0475, Loss D: 0.2366, D(x): 23.3343, D(G(z1)): -0.8300, D(G(z2)): -1.0475\n",
      "Epoch[9], Batch[20] Loss G: 0.8432, Loss D: 0.2164, D(x): 14.0933, D(G(z1)): -1.0619, D(G(z2)): -0.8432\n",
      "Epoch[9], Batch[25] Loss G: 1.1605, Loss D: 0.1943, D(x): 19.2720, D(G(z1)): -1.3271, D(G(z2)): -1.1605\n",
      "Epoch[9], Batch[30] Loss G: 1.2385, Loss D: 0.0040, D(x): 15.5203, D(G(z1)): -1.2175, D(G(z2)): -1.2385\n",
      "Image is dumped to: ./generated_plot_e010\n",
      "Generator is dumped to: ./generator_model_010.pt, \n",
      "Discriminator is dumped to :./discriminator_model_010.pt\n",
      "Epoch[10], Batch[4] Loss G: 0.8188, Loss D: 0.2706, D(x): 18.4683, D(G(z1)): -1.2015, D(G(z2)): -0.8188\n",
      "Epoch[10], Batch[9] Loss G: 1.0744, Loss D: 0.0569, D(x): 9.8752, D(G(z1)): -1.2199, D(G(z2)): -1.0744\n",
      "Epoch[10], Batch[14] Loss G: 1.0560, Loss D: 0.1347, D(x): 8.6120, D(G(z1)): -0.8895, D(G(z2)): -1.0560\n",
      "Epoch[10], Batch[19] Loss G: 0.4282, Loss D: 0.7675, D(x): 8.3111, D(G(z1)): -0.3337, D(G(z2)): -0.4282\n",
      "Epoch[10], Batch[24] Loss G: 0.8319, Loss D: 0.6186, D(x): 18.3898, D(G(z1)): -0.6836, D(G(z2)): -0.8319\n",
      "Epoch[10], Batch[29] Loss G: -0.0423, Loss D: 1.3187, D(x): 17.6264, D(G(z1)): 0.2752, D(G(z2)): 0.0423\n",
      "Image is dumped to: ./generated_plot_e011\n",
      "Generator is dumped to: ./generator_model_011.pt, \n",
      "Discriminator is dumped to :./discriminator_model_011.pt\n",
      "Epoch[11], Batch[3] Loss G: 0.6959, Loss D: 0.0740, D(x): 6.1060, D(G(z1)): -1.0628, D(G(z2)): -0.6959\n",
      "Epoch[11], Batch[8] Loss G: 1.6078, Loss D: 0.1434, D(x): 7.7164, D(G(z1)): -1.5973, D(G(z2)): -1.6078\n",
      "Epoch[11], Batch[13] Loss G: 0.8519, Loss D: 0.4754, D(x): 7.4792, D(G(z1)): -0.7285, D(G(z2)): -0.8519\n",
      "Epoch[11], Batch[18] Loss G: 1.0807, Loss D: 0.1604, D(x): 8.5818, D(G(z1)): -0.9574, D(G(z2)): -1.0807\n",
      "Epoch[11], Batch[23] Loss G: 0.6142, Loss D: 0.5827, D(x): 5.1309, D(G(z1)): -0.4915, D(G(z2)): -0.6142\n",
      "Epoch[11], Batch[28] Loss G: 0.8010, Loss D: 0.4700, D(x): 8.0156, D(G(z1)): -0.7221, D(G(z2)): -0.8010\n",
      "Image is dumped to: ./generated_plot_e012\n",
      "Generator is dumped to: ./generator_model_012.pt, \n",
      "Discriminator is dumped to :./discriminator_model_012.pt\n",
      "Epoch[12], Batch[2] Loss G: 0.6242, Loss D: 0.6166, D(x): 10.0832, D(G(z1)): -0.4362, D(G(z2)): -0.6242\n",
      "Epoch[12], Batch[7] Loss G: 1.0441, Loss D: 0.0025, D(x): 10.0233, D(G(z1)): -1.0337, D(G(z2)): -1.0441\n",
      "Epoch[12], Batch[12] Loss G: 0.9947, Loss D: 0.0063, D(x): 6.5516, D(G(z1)): -1.0530, D(G(z2)): -0.9947\n",
      "Epoch[12], Batch[17] Loss G: 0.9508, Loss D: 0.3951, D(x): 7.4414, D(G(z1)): -0.8369, D(G(z2)): -0.9508\n",
      "Epoch[12], Batch[22] Loss G: 0.9807, Loss D: 0.0390, D(x): 6.9828, D(G(z1)): -1.0976, D(G(z2)): -0.9807\n",
      "Epoch[12], Batch[27] Loss G: 0.9424, Loss D: 0.6450, D(x): 6.3461, D(G(z1)): -0.6321, D(G(z2)): -0.9424\n",
      "Image is dumped to: ./generated_plot_e013\n",
      "Generator is dumped to: ./generator_model_013.pt, \n",
      "Discriminator is dumped to :./discriminator_model_013.pt\n"
     ]
    },
    {
     "name": "stderr",
     "output_type": "stream",
     "text": [
      "Exception ignored in: <function _MultiProcessingDataLoaderIter.__del__ at 0x117963820>\n",
      "Traceback (most recent call last):\n",
      "  File \"/Users/typeorigin/anaconda3/envs/XArtist/lib/python3.8/site-packages/torch/utils/data/dataloader.py\", line 1476, in __del__\n",
      "    self._shutdown_workers()\n",
      "  File \"/Users/typeorigin/anaconda3/envs/XArtist/lib/python3.8/site-packages/torch/utils/data/dataloader.py\", line 1440, in _shutdown_workers\n",
      "    w.join(timeout=_utils.MP_STATUS_CHECK_INTERVAL)\n",
      "  File \"/Users/typeorigin/anaconda3/envs/XArtist/lib/python3.8/multiprocessing/process.py\", line 149, in join\n",
      "    res = self._popen.wait(timeout)\n",
      "  File \"/Users/typeorigin/anaconda3/envs/XArtist/lib/python3.8/multiprocessing/popen_fork.py\", line 44, in wait\n",
      "    if not wait([self.sentinel], timeout):\n",
      "  File \"/Users/typeorigin/anaconda3/envs/XArtist/lib/python3.8/multiprocessing/connection.py\", line 931, in wait\n",
      "    ready = selector.select(timeout)\n",
      "  File \"/Users/typeorigin/anaconda3/envs/XArtist/lib/python3.8/selectors.py\", line 415, in select\n",
      "    fd_event_list = self._selector.poll(timeout)\n",
      "KeyboardInterrupt: \n"
     ]
    },
    {
     "ename": "KeyboardInterrupt",
     "evalue": "",
     "output_type": "error",
     "traceback": [
      "\u001B[0;31m---------------------------------------------------------------------------\u001B[0m",
      "\u001B[0;31mKeyboardInterrupt\u001B[0m                         Traceback (most recent call last)",
      "Cell \u001B[0;32mIn[4], line 6\u001B[0m\n\u001B[1;32m      4\u001B[0m start_ts \u001B[38;5;241m=\u001B[39m time\u001B[38;5;241m.\u001B[39mtime()\n\u001B[1;32m      5\u001B[0m \u001B[38;5;28mprint\u001B[39m(\u001B[38;5;124mf\u001B[39m\u001B[38;5;124m'\u001B[39m\u001B[38;5;124mTraining started ....\u001B[39m\u001B[38;5;124m'\u001B[39m)\n\u001B[0;32m----> 6\u001B[0m \u001B[43mgan_trainer\u001B[49m\u001B[38;5;241;43m.\u001B[39;49m\u001B[43mrun\u001B[49m\u001B[43m(\u001B[49m\u001B[43m)\u001B[49m\n\u001B[1;32m      7\u001B[0m \u001B[38;5;28mprint\u001B[39m(\u001B[38;5;124mf\u001B[39m\u001B[38;5;124m'\u001B[39m\u001B[38;5;124mTraining finished ... (\u001B[39m\u001B[38;5;132;01m{\u001B[39;00m(time\u001B[38;5;241m.\u001B[39mtime()\u001B[38;5;250m \u001B[39m\u001B[38;5;241m-\u001B[39m\u001B[38;5;250m \u001B[39mstart_ts)\u001B[38;5;241m/\u001B[39m\u001B[38;5;241m1000\u001B[39m\u001B[38;5;132;01m}\u001B[39;00m\u001B[38;5;124m s)\u001B[39m\u001B[38;5;124m'\u001B[39m)\n",
      "File \u001B[0;32m~/PythonProjects/XArtist/training/src/gan_trainer.py:302\u001B[0m, in \u001B[0;36mrun\u001B[0;34m()\u001B[0m\n\u001B[1;32m    300\u001B[0m n_dis \u001B[38;5;241m=\u001B[39m train_configs[\u001B[38;5;124m'\u001B[39m\u001B[38;5;124mN_DIS\u001B[39m\u001B[38;5;124m'\u001B[39m]\n\u001B[1;32m    301\u001B[0m n_gen \u001B[38;5;241m=\u001B[39m train_configs[\u001B[38;5;124m'\u001B[39m\u001B[38;5;124mN_GEN\u001B[39m\u001B[38;5;124m'\u001B[39m]\n\u001B[0;32m--> 302\u001B[0m \u001B[43mtrain_gan\u001B[49m\u001B[43m(\u001B[49m\u001B[43mg_model\u001B[49m\u001B[43m,\u001B[49m\u001B[43m \u001B[49m\u001B[43md_model\u001B[49m\u001B[43m,\u001B[49m\u001B[43m \u001B[49m\u001B[43mdataloader\u001B[49m\u001B[43m,\u001B[49m\u001B[43m \u001B[49m\u001B[43mdevice\u001B[49m\u001B[43m,\u001B[49m\u001B[43m \u001B[49m\u001B[43mepochs\u001B[49m\u001B[38;5;241;43m=\u001B[39;49m\u001B[43mepoch\u001B[49m\u001B[43m,\u001B[49m\u001B[43m \u001B[49m\u001B[43mbatch_size\u001B[49m\u001B[38;5;241;43m=\u001B[39;49m\u001B[43mtrain_configs\u001B[49m\u001B[43m[\u001B[49m\u001B[38;5;124;43m'\u001B[39;49m\u001B[38;5;124;43mBATCH_SIZE\u001B[39;49m\u001B[38;5;124;43m'\u001B[39;49m\u001B[43m]\u001B[49m\u001B[43m,\u001B[49m\n\u001B[1;32m    303\u001B[0m \u001B[43m          \u001B[49m\u001B[43mlatent_dim\u001B[49m\u001B[38;5;241;43m=\u001B[39;49m\u001B[43mtrain_configs\u001B[49m\u001B[43m[\u001B[49m\u001B[38;5;124;43m'\u001B[39;49m\u001B[38;5;124;43mLATENT_DIM\u001B[39;49m\u001B[38;5;124;43m'\u001B[39;49m\u001B[43m]\u001B[49m\u001B[43m,\u001B[49m\u001B[43m \u001B[49m\u001B[43mloss_type\u001B[49m\u001B[38;5;241;43m=\u001B[39;49m\u001B[43mtrain_configs\u001B[49m\u001B[43m[\u001B[49m\u001B[38;5;124;43m'\u001B[39;49m\u001B[38;5;124;43mLOSS_FN\u001B[39;49m\u001B[38;5;124;43m'\u001B[39;49m\u001B[43m]\u001B[49m\u001B[43m,\u001B[49m\u001B[43m \u001B[49m\u001B[43mn_dis\u001B[49m\u001B[38;5;241;43m=\u001B[39;49m\u001B[43mn_dis\u001B[49m\u001B[43m,\u001B[49m\u001B[43m \u001B[49m\u001B[43mn_gen\u001B[49m\u001B[38;5;241;43m=\u001B[39;49m\u001B[43mn_gen\u001B[49m\u001B[43m)\u001B[49m\n\u001B[1;32m    304\u001B[0m save_model(epoch, g_model, d_model)\n",
      "File \u001B[0;32m~/PythonProjects/XArtist/training/src/gan_trainer.py:148\u001B[0m, in \u001B[0;36mtrain_gan\u001B[0;34m(g_model, d_model, train_loader, device, epochs, batch_size, latent_dim, loss_type, n_dis, n_gen)\u001B[0m\n\u001B[1;32m    146\u001B[0m \u001B[38;5;66;03m# print(f'D model output shape: {d_true.shape}')\u001B[39;00m\n\u001B[1;32m    147\u001B[0m d_fake \u001B[38;5;241m=\u001B[39m d_model(X_false\u001B[38;5;241m.\u001B[39mdetach())\n\u001B[0;32m--> 148\u001B[0m d_x \u001B[38;5;241m=\u001B[39m \u001B[43md_true\u001B[49m\u001B[38;5;241;43m.\u001B[39;49m\u001B[43mmean\u001B[49m\u001B[43m(\u001B[49m\u001B[43m)\u001B[49m\u001B[38;5;241;43m.\u001B[39;49m\u001B[43mitem\u001B[49m\u001B[43m(\u001B[49m\u001B[43m)\u001B[49m  \u001B[38;5;66;03m# Loss of D(x)\u001B[39;00m\n\u001B[1;32m    149\u001B[0m d_g_z1 \u001B[38;5;241m=\u001B[39m d_fake\u001B[38;5;241m.\u001B[39mmean()\u001B[38;5;241m.\u001B[39mitem()\n\u001B[1;32m    151\u001B[0m \u001B[38;5;28;01mif\u001B[39;00m loss_type \u001B[38;5;241m==\u001B[39m \u001B[38;5;124m'\u001B[39m\u001B[38;5;124mbce\u001B[39m\u001B[38;5;124m'\u001B[39m:\n",
      "\u001B[0;31mKeyboardInterrupt\u001B[0m: "
     ]
    }
   ],
   "execution_count": 4
  }
 ],
 "metadata": {
  "kernelspec": {
   "display_name": "Python 3",
   "language": "python",
   "name": "python3"
  },
  "language_info": {
   "codemirror_mode": {
    "name": "ipython",
    "version": 2
   },
   "file_extension": ".py",
   "mimetype": "text/x-python",
   "name": "python",
   "nbconvert_exporter": "python",
   "pygments_lexer": "ipython2",
   "version": "2.7.6"
  }
 },
 "nbformat": 4,
 "nbformat_minor": 5
}
