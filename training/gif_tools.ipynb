{
 "cells": [
  {
   "cell_type": "code",
   "id": "initial_id",
   "metadata": {
    "collapsed": true,
    "ExecuteTime": {
     "end_time": "2024-06-16T15:44:49.225397Z",
     "start_time": "2024-06-16T15:44:49.221188Z"
    }
   },
   "source": [
    "import imageio.v2 as imageio\n",
    "from PIL import Image\n",
    "import numpy as np\n",
    "import os"
   ],
   "outputs": [],
   "execution_count": 5
  },
  {
   "metadata": {
    "ExecuteTime": {
     "end_time": "2024-06-16T18:20:11.449249Z",
     "start_time": "2024-06-16T18:20:10.679704Z"
    }
   },
   "cell_type": "code",
   "source": [
    "\n",
    "\n",
    "# Specify the path for the output GIF\n",
    "output_gif_path = './abstraction_animation.gif'\n",
    "image_path = './src'\n",
    "new_width = 512\n",
    "new_height = 512\n",
    "\n",
    "def create_gif(images_path, gif_path):\n",
    "    images = []\n",
    "    for filename in sorted(os.listdir(images_path)):\n",
    "        if filename.endswith('.png'):\n",
    "            file_path = os.path.join(images_path, filename)\n",
    "            images.append(imageio.imread(file_path))\n",
    "            \n",
    "    with imageio.get_writer(gif_path, mode='I', duration=1) as gif:\n",
    "        for img in images:\n",
    "            # Convert the NumPy array to a PIL Image object\n",
    "            img = Image.fromarray((img * 255).astype(np.uint8))\n",
    "            # Resize the image\n",
    "            img = img.resize((new_width, new_height), Image.NEAREST)\n",
    "            # Convert the PIL Image back to a NumPy array\n",
    "            img_resized = np.array(img)\n",
    "            # Append the resized image to the GIF\n",
    "            gif.append_data(img_resized)\n",
    "            \n",
    "create_gif(image_path, output_gif_path)\n",
    "\n",
    "print(\"GIF saved at:\", output_gif_path)"
   ],
   "id": "2db5b5dc569b3ee5",
   "outputs": [
    {
     "name": "stdout",
     "output_type": "stream",
     "text": [
      "GIF saved at: ./abstraction_animation.gif\n"
     ]
    }
   ],
   "execution_count": 10
  }
 ],
 "metadata": {
  "kernelspec": {
   "display_name": "Python 3",
   "language": "python",
   "name": "python3"
  },
  "language_info": {
   "codemirror_mode": {
    "name": "ipython",
    "version": 2
   },
   "file_extension": ".py",
   "mimetype": "text/x-python",
   "name": "python",
   "nbconvert_exporter": "python",
   "pygments_lexer": "ipython2",
   "version": "2.7.6"
  }
 },
 "nbformat": 4,
 "nbformat_minor": 5
}
